{
  "cells": [
    {
      "cell_type": "code",
      "execution_count": null,
      "metadata": {
        "colab": {
          "base_uri": "https://localhost:8080/"
        },
        "id": "wi9nNSo4_ZJd",
        "outputId": "1475b9a8-0d6e-429f-8ab0-50b68bfa15ac"
      },
      "outputs": [
        {
          "name": "stdout",
          "output_type": "stream",
          "text": [
            "Drive already mounted at /content/drive; to attempt to forcibly remount, call drive.mount(\"/content/drive\", force_remount=True).\n"
          ]
        }
      ],
      "source": [
        "    from google.colab import drive\n",
        "    drive.mount('/content/drive')"
      ]
    },
    {
      "cell_type": "code",
      "execution_count": null,
      "metadata": {
        "colab": {
          "base_uri": "https://localhost:8080/"
        },
        "id": "0hI_h8MeAbao",
        "outputId": "6b24bf51-adc8-4933-c728-cd8dcd08c88d"
      },
      "outputs": [
        {
          "name": "stdout",
          "output_type": "stream",
          "text": [
            "Requirement already satisfied: requests in /usr/local/lib/python3.11/dist-packages (2.32.3)\n",
            "Requirement already satisfied: beautifulsoup4 in /usr/local/lib/python3.11/dist-packages (4.13.4)\n",
            "Requirement already satisfied: pandas in /usr/local/lib/python3.11/dist-packages (2.2.2)\n",
            "Requirement already satisfied: charset-normalizer<4,>=2 in /usr/local/lib/python3.11/dist-packages (from requests) (3.4.2)\n",
            "Requirement already satisfied: idna<4,>=2.5 in /usr/local/lib/python3.11/dist-packages (from requests) (3.10)\n",
            "Requirement already satisfied: urllib3<3,>=1.21.1 in /usr/local/lib/python3.11/dist-packages (from requests) (2.4.0)\n",
            "Requirement already satisfied: certifi>=2017.4.17 in /usr/local/lib/python3.11/dist-packages (from requests) (2025.6.15)\n",
            "Requirement already satisfied: soupsieve>1.2 in /usr/local/lib/python3.11/dist-packages (from beautifulsoup4) (2.7)\n",
            "Requirement already satisfied: typing-extensions>=4.0.0 in /usr/local/lib/python3.11/dist-packages (from beautifulsoup4) (4.13.2)\n",
            "Requirement already satisfied: numpy>=1.23.2 in /usr/local/lib/python3.11/dist-packages (from pandas) (2.0.2)\n",
            "Requirement already satisfied: python-dateutil>=2.8.2 in /usr/local/lib/python3.11/dist-packages (from pandas) (2.9.0.post0)\n",
            "Requirement already satisfied: pytz>=2020.1 in /usr/local/lib/python3.11/dist-packages (from pandas) (2025.2)\n",
            "Requirement already satisfied: tzdata>=2022.7 in /usr/local/lib/python3.11/dist-packages (from pandas) (2025.2)\n",
            "Requirement already satisfied: six>=1.5 in /usr/local/lib/python3.11/dist-packages (from python-dateutil>=2.8.2->pandas) (1.17.0)\n"
          ]
        }
      ],
      "source": [
        "!pip install requests beautifulsoup4 pandas"
      ]
    },
    {
      "cell_type": "code",
      "execution_count": null,
      "metadata": {
        "colab": {
          "base_uri": "https://localhost:8080/"
        },
        "id": "XBwdD2OMCbfl",
        "outputId": "2a6cfed3-e754-4f56-a364-b03c7e0ca45f"
      },
      "outputs": [
        {
          "name": "stdout",
          "output_type": "stream",
          "text": [
            "\r0% [Working]\r            \rGet:1 https://dl.google.com/linux/chrome/deb stable InRelease [1,825 B]\n",
            "\r0% [Connecting to archive.ubuntu.com (185.125.190.83)] [Connecting to security.\r0% [Connecting to archive.ubuntu.com (185.125.190.83)] [Connecting to security.\r                                                                               \rHit:2 https://cloud.r-project.org/bin/linux/ubuntu jammy-cran40/ InRelease\n",
            "Hit:3 https://developer.download.nvidia.com/compute/cuda/repos/ubuntu2204/x86_64  InRelease\n",
            "Err:1 https://dl.google.com/linux/chrome/deb stable InRelease\n",
            "  The following signatures couldn't be verified because the public key is not available: NO_PUBKEY 32EE5355A6BC6E42\n",
            "Hit:4 http://archive.ubuntu.com/ubuntu jammy InRelease\n",
            "Hit:5 http://security.ubuntu.com/ubuntu jammy-security InRelease\n",
            "Hit:6 https://r2u.stat.illinois.edu/ubuntu jammy InRelease\n",
            "Hit:7 http://archive.ubuntu.com/ubuntu jammy-updates InRelease\n",
            "Hit:8 http://archive.ubuntu.com/ubuntu jammy-backports InRelease\n",
            "Hit:9 https://ppa.launchpadcontent.net/deadsnakes/ppa/ubuntu jammy InRelease\n",
            "Hit:10 https://ppa.launchpadcontent.net/graphics-drivers/ppa/ubuntu jammy InRelease\n",
            "Hit:11 https://ppa.launchpadcontent.net/ubuntugis/ppa/ubuntu jammy InRelease\n",
            "Reading package lists... Done\n",
            "W: GPG error: https://dl.google.com/linux/chrome/deb stable InRelease: The following signatures couldn't be verified because the public key is not available: NO_PUBKEY 32EE5355A6BC6E42\n",
            "E: The repository 'https://dl.google.com/linux/chrome/deb stable InRelease' is not signed.\n",
            "N: Updating from such a repository can't be done securely, and is therefore disabled by default.\n",
            "N: See apt-secure(8) manpage for repository creation and user configuration details.\n",
            "W: Skipping acquire of configured file 'main/source/Sources' as repository 'https://r2u.stat.illinois.edu/ubuntu jammy InRelease' does not seem to provide it (sources.list entry misspelt?)\n",
            "Reading package lists... Done\n",
            "Building dependency tree... Done\n",
            "Reading state information... Done\n",
            "chromium-chromedriver is already the newest version (1:85.0.4183.83-0ubuntu2.22.04.1).\n",
            "0 upgraded, 0 newly installed, 0 to remove and 36 not upgraded.\n",
            "cp: '/usr/lib/chromium-browser/chromedriver' and '/usr/bin/chromedriver' are the same file\n",
            "Requirement already satisfied: selenium in /usr/local/lib/python3.11/dist-packages (4.33.0)\n",
            "Requirement already satisfied: urllib3~=2.4.0 in /usr/local/lib/python3.11/dist-packages (from urllib3[socks]~=2.4.0->selenium) (2.4.0)\n",
            "Requirement already satisfied: trio~=0.30.0 in /usr/local/lib/python3.11/dist-packages (from selenium) (0.30.0)\n",
            "Requirement already satisfied: trio-websocket~=0.12.2 in /usr/local/lib/python3.11/dist-packages (from selenium) (0.12.2)\n",
            "Requirement already satisfied: certifi>=2025.4.26 in /usr/local/lib/python3.11/dist-packages (from selenium) (2025.6.15)\n",
            "Requirement already satisfied: typing_extensions~=4.13.2 in /usr/local/lib/python3.11/dist-packages (from selenium) (4.13.2)\n",
            "Requirement already satisfied: websocket-client~=1.8.0 in /usr/local/lib/python3.11/dist-packages (from selenium) (1.8.0)\n",
            "Requirement already satisfied: attrs>=23.2.0 in /usr/local/lib/python3.11/dist-packages (from trio~=0.30.0->selenium) (25.3.0)\n",
            "Requirement already satisfied: sortedcontainers in /usr/local/lib/python3.11/dist-packages (from trio~=0.30.0->selenium) (2.4.0)\n",
            "Requirement already satisfied: idna in /usr/local/lib/python3.11/dist-packages (from trio~=0.30.0->selenium) (3.10)\n",
            "Requirement already satisfied: outcome in /usr/local/lib/python3.11/dist-packages (from trio~=0.30.0->selenium) (1.3.0.post0)\n",
            "Requirement already satisfied: sniffio>=1.3.0 in /usr/local/lib/python3.11/dist-packages (from trio~=0.30.0->selenium) (1.3.1)\n",
            "Requirement already satisfied: wsproto>=0.14 in /usr/local/lib/python3.11/dist-packages (from trio-websocket~=0.12.2->selenium) (1.2.0)\n",
            "Requirement already satisfied: pysocks!=1.5.7,<2.0,>=1.5.6 in /usr/local/lib/python3.11/dist-packages (from urllib3[socks]~=2.4.0->selenium) (1.7.1)\n",
            "Requirement already satisfied: h11<1,>=0.9.0 in /usr/local/lib/python3.11/dist-packages (from wsproto>=0.14->trio-websocket~=0.12.2->selenium) (0.16.0)\n"
          ]
        }
      ],
      "source": [
        "!apt-get update\n",
        "!apt-get install -y chromium-chromedriver\n",
        "!cp /usr/lib/chromium-browser/chromedriver /usr/bin\n",
        "!pip install selenium\n"
      ]
    },
    {
      "cell_type": "code",
      "execution_count": null,
      "metadata": {
        "colab": {
          "base_uri": "https://localhost:8080/"
        },
        "id": "_daP4axJF7aM",
        "outputId": "d46d2865-5ed2-49e2-8f74-6b4ab2429c1a"
      },
      "outputs": [
        {
          "name": "stdout",
          "output_type": "stream",
          "text": [
            "Reading package lists... Done\n",
            "Building dependency tree... Done\n",
            "Reading state information... Done\n",
            "The following packages were automatically installed and are no longer required:\n",
            "  libu2f-udev libvulkan1 mesa-vulkan-drivers\n",
            "Use 'apt autoremove' to remove them.\n",
            "The following packages will be REMOVED:\n",
            "  google-chrome-stable\n",
            "The following held packages will be changed:\n",
            "  google-chrome-stable\n",
            "0 upgraded, 0 newly installed, 1 to remove and 36 not upgraded.\n",
            "E: Held packages were changed and -y was used without --allow-change-held-packages.\n",
            "--2025-06-22 10:45:02--  https://mirror.cs.uchicago.edu/google-chrome/pool/main/g/google-chrome-stable/google-chrome-stable_114.0.5735.90-1_amd64.deb\n",
            "Resolving mirror.cs.uchicago.edu (mirror.cs.uchicago.edu)... 128.135.164.21\n",
            "Connecting to mirror.cs.uchicago.edu (mirror.cs.uchicago.edu)|128.135.164.21|:443... connected.\n",
            "HTTP request sent, awaiting response... 200 OK\n",
            "Length: 93841272 (89M) [application/octet-stream]\n",
            "Saving to: ‘google-chrome-stable_114.0.5735.90-1_amd64.deb.1’\n",
            "\n",
            "google-chrome-stabl 100%[===================>]  89.49M  4.71MB/s    in 19s     \n",
            "\n",
            "2025-06-22 10:45:22 (4.70 MB/s) - ‘google-chrome-stable_114.0.5735.90-1_amd64.deb.1’ saved [93841272/93841272]\n",
            "\n",
            "Reading package lists... Done\n",
            "Building dependency tree... Done\n",
            "Reading state information... Done\n",
            "Note, selecting 'google-chrome-stable' instead of './google-chrome-stable_114.0.5735.90-1_amd64.deb'\n",
            "google-chrome-stable is already the newest version (114.0.5735.90-1).\n",
            "0 upgraded, 0 newly installed, 0 to remove and 36 not upgraded.\n",
            "google-chrome-stable was already set on hold.\n"
          ]
        }
      ],
      "source": [
        "# Hapus versi yang sekarang dulu\n",
        "!apt-get remove -y google-chrome-stable\n",
        "\n",
        "# Install ulang versi 114\n",
        "!wget https://mirror.cs.uchicago.edu/google-chrome/pool/main/g/google-chrome-stable/google-chrome-stable_114.0.5735.90-1_amd64.deb\n",
        "!apt-get install -y ./google-chrome-stable_114.0.5735.90-1_amd64.deb\n",
        "\n",
        "# Cegah supaya gak auto-upgrade\n",
        "!apt-mark hold google-chrome-stable\n"
      ]
    },
    {
      "cell_type": "code",
      "execution_count": null,
      "metadata": {
        "colab": {
          "base_uri": "https://localhost:8080/"
        },
        "id": "hiJoeCcIG_xE",
        "outputId": "fc969b6d-fe48-4a10-a77f-6711ee1b017e"
      },
      "outputs": [
        {
          "name": "stdout",
          "output_type": "stream",
          "text": [
            "--2025-06-22 10:46:17--  https://chromedriver.storage.googleapis.com/114.0.5735.90/chromedriver_linux64.zip\n",
            "Resolving chromedriver.storage.googleapis.com (chromedriver.storage.googleapis.com)... 74.125.20.207, 108.177.98.207, 74.125.135.207, ...\n",
            "Connecting to chromedriver.storage.googleapis.com (chromedriver.storage.googleapis.com)|74.125.20.207|:443... connected.\n",
            "HTTP request sent, awaiting response... 200 OK\n",
            "Length: 7407250 (7.1M) [application/zip]\n",
            "Saving to: ‘chromedriver_linux64.zip.2’\n",
            "\n",
            "\r          chromedri   0%[                    ]       0  --.-KB/s               \rchromedriver_linux6 100%[===================>]   7.06M  --.-KB/s    in 0.08s   \n",
            "\n",
            "2025-06-22 10:46:17 (91.6 MB/s) - ‘chromedriver_linux64.zip.2’ saved [7407250/7407250]\n",
            "\n",
            "Archive:  chromedriver_linux64.zip\n",
            "  inflating: chromedriver            \n",
            "  inflating: LICENSE.chromedriver    \n"
          ]
        }
      ],
      "source": [
        "!wget https://chromedriver.storage.googleapis.com/114.0.5735.90/chromedriver_linux64.zip\n",
        "!unzip -o chromedriver_linux64.zip\n",
        "!mv -f chromedriver /usr/bin/chromedriver\n",
        "!chmod +x /usr/bin/chromedriver"
      ]
    },
    {
      "cell_type": "code",
      "execution_count": null,
      "metadata": {
        "colab": {
          "base_uri": "https://localhost:8080/"
        },
        "id": "opocj0nYEQ2w",
        "outputId": "3bd30529-c41e-44a8-949d-4027a8adb9af"
      },
      "outputs": [
        {
          "name": "stdout",
          "output_type": "stream",
          "text": [
            "Google Chrome 114.0.5735.90 \n",
            "ChromeDriver 114.0.5735.90 (386bc09e8f4f2e025eddae123f36f6263096ae49-refs/branch-heads/5735@{#1052})\n"
          ]
        }
      ],
      "source": [
        "!google-chrome --version\n",
        "!chromedriver --version\n"
      ]
    },
    {
      "cell_type": "code",
      "execution_count": null,
      "metadata": {
        "colab": {
          "base_uri": "https://localhost:8080/"
        },
        "id": "GAm91ZkHdhHK",
        "outputId": "345f940a-9ee0-4808-da36-d76ee9158aec"
      },
      "outputs": [
        {
          "name": "stdout",
          "output_type": "stream",
          "text": [
            "🔗 https://harga-emas.org/history-harga/2020/Januari/1/\n",
            "✅ 2020-01-01 | Sukses\n",
            "🔗 https://harga-emas.org/history-harga/2020/Januari/2/\n",
            "✅ 2020-01-02 | Sukses\n",
            "🔗 https://harga-emas.org/history-harga/2020/Januari/3/\n",
            "✅ 2020-01-03 | Sukses\n",
            "🔗 https://harga-emas.org/history-harga/2020/Januari/4/\n",
            "✅ 2020-01-04 | Sukses\n",
            "🔗 https://harga-emas.org/history-harga/2020/Januari/5/\n",
            "✅ 2020-01-05 | Sukses\n",
            "🔗 https://harga-emas.org/history-harga/2020/Januari/6/\n",
            "✅ 2020-01-06 | Sukses\n",
            "🔗 https://harga-emas.org/history-harga/2020/Januari/7/\n",
            "✅ 2020-01-07 | Sukses\n",
            "🔗 https://harga-emas.org/history-harga/2020/Januari/8/\n",
            "✅ 2020-01-08 | Sukses\n",
            "🔗 https://harga-emas.org/history-harga/2020/Januari/9/\n",
            "✅ 2020-01-09 | Sukses\n",
            "🔗 https://harga-emas.org/history-harga/2020/Januari/10/\n",
            "✅ 2020-01-10 | Sukses\n",
            "🔗 https://harga-emas.org/history-harga/2020/Januari/11/\n",
            "✅ 2020-01-11 | Sukses\n",
            "🔗 https://harga-emas.org/history-harga/2020/Januari/12/\n",
            "✅ 2020-01-12 | Sukses\n",
            "🔗 https://harga-emas.org/history-harga/2020/Januari/13/\n",
            "✅ 2020-01-13 | Sukses\n",
            "🔗 https://harga-emas.org/history-harga/2020/Januari/14/\n",
            "✅ 2020-01-14 | Sukses\n",
            "🔗 https://harga-emas.org/history-harga/2020/Januari/15/\n",
            "✅ 2020-01-15 | Sukses\n",
            "🔗 https://harga-emas.org/history-harga/2020/Januari/16/\n",
            "✅ 2020-01-16 | Sukses\n",
            "🔗 https://harga-emas.org/history-harga/2020/Januari/17/\n",
            "✅ 2020-01-17 | Sukses\n",
            "🔗 https://harga-emas.org/history-harga/2020/Januari/18/\n",
            "✅ 2020-01-18 | Sukses\n",
            "🔗 https://harga-emas.org/history-harga/2020/Januari/19/\n",
            "✅ 2020-01-19 | Sukses\n",
            "🔗 https://harga-emas.org/history-harga/2020/Januari/20/\n",
            "✅ 2020-01-20 | Sukses\n",
            "🔗 https://harga-emas.org/history-harga/2020/Januari/21/\n",
            "✅ 2020-01-21 | Sukses\n",
            "🔗 https://harga-emas.org/history-harga/2020/Januari/22/\n",
            "✅ 2020-01-22 | Sukses\n",
            "🔗 https://harga-emas.org/history-harga/2020/Januari/23/\n",
            "✅ 2020-01-23 | Sukses\n",
            "🔗 https://harga-emas.org/history-harga/2020/Januari/24/\n",
            "✅ 2020-01-24 | Sukses\n",
            "🔗 https://harga-emas.org/history-harga/2020/Januari/25/\n",
            "✅ 2020-01-25 | Sukses\n",
            "🔗 https://harga-emas.org/history-harga/2020/Januari/26/\n",
            "✅ 2020-01-26 | Sukses\n",
            "🔗 https://harga-emas.org/history-harga/2020/Januari/27/\n",
            "✅ 2020-01-27 | Sukses\n",
            "🔗 https://harga-emas.org/history-harga/2020/Januari/28/\n",
            "✅ 2020-01-28 | Sukses\n",
            "🔗 https://harga-emas.org/history-harga/2020/Januari/29/\n",
            "✅ 2020-01-29 | Sukses\n",
            "🔗 https://harga-emas.org/history-harga/2020/Januari/30/\n",
            "✅ 2020-01-30 | Sukses\n",
            "🔗 https://harga-emas.org/history-harga/2020/Januari/31/\n",
            "✅ 2020-01-31 | Sukses\n",
            "🔗 https://harga-emas.org/history-harga/2020/Febuari/1/\n",
            "✅ 2020-02-01 | Sukses\n",
            "🔗 https://harga-emas.org/history-harga/2020/Febuari/2/\n",
            "✅ 2020-02-02 | Sukses\n",
            "🔗 https://harga-emas.org/history-harga/2020/Febuari/3/\n",
            "✅ 2020-02-03 | Sukses\n",
            "🔗 https://harga-emas.org/history-harga/2020/Febuari/4/\n",
            "✅ 2020-02-04 | Sukses\n",
            "🔗 https://harga-emas.org/history-harga/2020/Febuari/5/\n",
            "✅ 2020-02-05 | Sukses\n",
            "🔗 https://harga-emas.org/history-harga/2020/Febuari/6/\n",
            "✅ 2020-02-06 | Sukses\n",
            "🔗 https://harga-emas.org/history-harga/2020/Febuari/7/\n",
            "✅ 2020-02-07 | Sukses\n",
            "🔗 https://harga-emas.org/history-harga/2020/Febuari/8/\n",
            "✅ 2020-02-08 | Sukses\n",
            "🔗 https://harga-emas.org/history-harga/2020/Febuari/9/\n",
            "✅ 2020-02-09 | Sukses\n",
            "🔗 https://harga-emas.org/history-harga/2020/Febuari/10/\n",
            "✅ 2020-02-10 | Sukses\n",
            "🔗 https://harga-emas.org/history-harga/2020/Febuari/11/\n",
            "✅ 2020-02-11 | Sukses\n",
            "🔗 https://harga-emas.org/history-harga/2020/Febuari/12/\n",
            "✅ 2020-02-12 | Sukses\n",
            "🔗 https://harga-emas.org/history-harga/2020/Febuari/13/\n",
            "✅ 2020-02-13 | Sukses\n",
            "🔗 https://harga-emas.org/history-harga/2020/Febuari/14/\n",
            "✅ 2020-02-14 | Sukses\n",
            "🔗 https://harga-emas.org/history-harga/2020/Febuari/15/\n",
            "✅ 2020-02-15 | Sukses\n",
            "🔗 https://harga-emas.org/history-harga/2020/Febuari/16/\n",
            "✅ 2020-02-16 | Sukses\n",
            "🔗 https://harga-emas.org/history-harga/2020/Febuari/17/\n",
            "✅ 2020-02-17 | Sukses\n",
            "🔗 https://harga-emas.org/history-harga/2020/Febuari/18/\n",
            "✅ 2020-02-18 | Sukses\n",
            "🔗 https://harga-emas.org/history-harga/2020/Febuari/19/\n",
            "✅ 2020-02-19 | Sukses\n",
            "🔗 https://harga-emas.org/history-harga/2020/Febuari/20/\n",
            "✅ 2020-02-20 | Sukses\n",
            "🔗 https://harga-emas.org/history-harga/2020/Febuari/21/\n",
            "✅ 2020-02-21 | Sukses\n",
            "🔗 https://harga-emas.org/history-harga/2020/Febuari/22/\n",
            "✅ 2020-02-22 | Sukses\n",
            "🔗 https://harga-emas.org/history-harga/2020/Febuari/23/\n",
            "✅ 2020-02-23 | Sukses\n",
            "🔗 https://harga-emas.org/history-harga/2020/Febuari/24/\n",
            "✅ 2020-02-24 | Sukses\n",
            "🔗 https://harga-emas.org/history-harga/2020/Febuari/25/\n",
            "✅ 2020-02-25 | Sukses\n",
            "🔗 https://harga-emas.org/history-harga/2020/Febuari/26/\n",
            "✅ 2020-02-26 | Sukses\n",
            "🔗 https://harga-emas.org/history-harga/2020/Febuari/27/\n",
            "✅ 2020-02-27 | Sukses\n",
            "🔗 https://harga-emas.org/history-harga/2020/Febuari/28/\n",
            "✅ 2020-02-28 | Sukses\n",
            "🔗 https://harga-emas.org/history-harga/2020/Febuari/29/\n",
            "✅ 2020-02-29 | Sukses\n",
            "🔗 https://harga-emas.org/history-harga/2020/Maret/1/\n",
            "✅ 2020-03-01 | Sukses\n",
            "🔗 https://harga-emas.org/history-harga/2020/Maret/2/\n",
            "✅ 2020-03-02 | Sukses\n",
            "🔗 https://harga-emas.org/history-harga/2020/Maret/3/\n",
            "✅ 2020-03-03 | Sukses\n",
            "🔗 https://harga-emas.org/history-harga/2020/Maret/4/\n",
            "✅ 2020-03-04 | Sukses\n",
            "🔗 https://harga-emas.org/history-harga/2020/Maret/5/\n",
            "✅ 2020-03-05 | Sukses\n",
            "🔗 https://harga-emas.org/history-harga/2020/Maret/6/\n",
            "✅ 2020-03-06 | Sukses\n",
            "🔗 https://harga-emas.org/history-harga/2020/Maret/7/\n",
            "✅ 2020-03-07 | Sukses\n",
            "🔗 https://harga-emas.org/history-harga/2020/Maret/8/\n",
            "✅ 2020-03-08 | Sukses\n",
            "🔗 https://harga-emas.org/history-harga/2020/Maret/9/\n",
            "✅ 2020-03-09 | Sukses\n",
            "🔗 https://harga-emas.org/history-harga/2020/Maret/10/\n",
            "✅ 2020-03-10 | Sukses\n",
            "🔗 https://harga-emas.org/history-harga/2020/Maret/11/\n",
            "✅ 2020-03-11 | Sukses\n",
            "🔗 https://harga-emas.org/history-harga/2020/Maret/12/\n",
            "✅ 2020-03-12 | Sukses\n",
            "🔗 https://harga-emas.org/history-harga/2020/Maret/13/\n",
            "✅ 2020-03-13 | Sukses\n",
            "🔗 https://harga-emas.org/history-harga/2020/Maret/14/\n",
            "✅ 2020-03-14 | Sukses\n",
            "🔗 https://harga-emas.org/history-harga/2020/Maret/15/\n",
            "✅ 2020-03-15 | Sukses\n",
            "🔗 https://harga-emas.org/history-harga/2020/Maret/16/\n",
            "✅ 2020-03-16 | Sukses\n",
            "🔗 https://harga-emas.org/history-harga/2020/Maret/17/\n",
            "✅ 2020-03-17 | Sukses\n",
            "🔗 https://harga-emas.org/history-harga/2020/Maret/18/\n",
            "✅ 2020-03-18 | Sukses\n",
            "🔗 https://harga-emas.org/history-harga/2020/Maret/19/\n",
            "✅ 2020-03-19 | Sukses\n",
            "🔗 https://harga-emas.org/history-harga/2020/Maret/20/\n",
            "✅ 2020-03-20 | Sukses\n",
            "🔗 https://harga-emas.org/history-harga/2020/Maret/21/\n",
            "✅ 2020-03-21 | Sukses\n",
            "🔗 https://harga-emas.org/history-harga/2020/Maret/22/\n",
            "✅ 2020-03-22 | Sukses\n",
            "🔗 https://harga-emas.org/history-harga/2020/Maret/23/\n",
            "✅ 2020-03-23 | Sukses\n",
            "🔗 https://harga-emas.org/history-harga/2020/Maret/24/\n",
            "✅ 2020-03-24 | Sukses\n",
            "🔗 https://harga-emas.org/history-harga/2020/Maret/25/\n",
            "✅ 2020-03-25 | Sukses\n",
            "🔗 https://harga-emas.org/history-harga/2020/Maret/26/\n",
            "✅ 2020-03-26 | Sukses\n",
            "🔗 https://harga-emas.org/history-harga/2020/Maret/27/\n",
            "✅ 2020-03-27 | Sukses\n",
            "🔗 https://harga-emas.org/history-harga/2020/Maret/28/\n",
            "✅ 2020-03-28 | Sukses\n",
            "🔗 https://harga-emas.org/history-harga/2020/Maret/29/\n",
            "✅ 2020-03-29 | Sukses\n",
            "🔗 https://harga-emas.org/history-harga/2020/Maret/30/\n",
            "✅ 2020-03-30 | Sukses\n",
            "🔗 https://harga-emas.org/history-harga/2020/Maret/31/\n",
            "✅ 2020-03-31 | Sukses\n",
            "\n",
            "📁 Data akhir tersimpan: /content/drive/MyDrive/2025_AI/scrape-gold/harga_emas_xpath.csv\n",
            "📊 Total baris data: 91\n"
          ]
        }
      ],
      "source": [
        "from selenium import webdriver\n",
        "from selenium.webdriver.chrome.service import Service\n",
        "from selenium.webdriver.chrome.options import Options\n",
        "from selenium.webdriver.common.by import By\n",
        "from selenium.common.exceptions import NoSuchElementException\n",
        "import pandas as pd\n",
        "from datetime import datetime, timedelta\n",
        "import time\n",
        "import os\n",
        "\n",
        "# Setup opsi Chrome\n",
        "chrome_options = Options()\n",
        "chrome_options.add_argument(\"--headless\")\n",
        "chrome_options.add_argument(\"--no-sandbox\")\n",
        "chrome_options.add_argument(\"--disable-dev-shm-usage\")\n",
        "chrome_options.add_argument(\"--disable-gpu\")\n",
        "chrome_options.add_argument(\"--window-size=1920,1080\")\n",
        "\n",
        "driver = webdriver.Chrome(service=Service(\"/usr/bin/chromedriver\"), options=chrome_options)\n",
        "\n",
        "# Bulan dalam Bahasa Indonesia\n",
        "bulan_id = {\n",
        "    1: \"Januari\", 2: \"Febuari\", 3: \"Maret\", 4: \"April\",\n",
        "    5: \"Mei\", 6: \"Juni\", 7: \"Juli\", 8: \"Agustus\",\n",
        "    9: \"September\", 10: \"Oktober\", 11: \"November\", 12: \"Desember\"\n",
        "}\n",
        "\n",
        "# Range waktu\n",
        "start_date = datetime(2020, 1, 1)\n",
        "end_date = datetime(2020, 4, 1)\n",
        "\n",
        "# Lokasi penyimpanan\n",
        "save_dir = \"/content/drive/MyDrive/2025_AI/scrape-gold\"\n",
        "os.makedirs(save_dir, exist_ok=True)\n",
        "save_path = os.path.join(save_dir, \"harga_emas_xpath.csv\")\n",
        "cache_path = os.path.join(save_dir, \"cache_harga_emas.csv\")\n",
        "\n",
        "# Load cache jika ada\n",
        "data = []\n",
        "if os.path.exists(cache_path):\n",
        "    df = pd.read_csv(cache_path)\n",
        "    data = df.to_dict(orient=\"records\")\n",
        "    if data:\n",
        "        last_date = datetime.strptime(data[-1][\"date\"], \"%Y-%m-%d\")\n",
        "        start_date = last_date + timedelta(days=1)\n",
        "        print(f\"📂 Melanjutkan dari cache terakhir: {last_date.date()}\")\n",
        "else:\n",
        "    df = pd.DataFrame(data)\n",
        "\n",
        "# XPath mapping\n",
        "xpaths = {\n",
        "    \"harga_oz\": \"/html/body/div[1]/div[3]/div[1]/table[1]/tbody/tr[3]/td[2]\",\n",
        "    \"kurs_oz\":  \"/html/body/div[1]/div[3]/div[1]/table[1]/tbody/tr[3]/td[3]\",\n",
        "    \"idr_oz\":   \"/html/body/div[1]/div[3]/div[1]/table[1]/tbody/tr[3]/td[4]\",\n",
        "    \"harga_gr\": \"/html/body/div[1]/div[3]/div[1]/table[1]/tbody/tr[4]/td[2]\",\n",
        "    \"kurs_gr\":  \"/html/body/div[1]/div[3]/div[1]/table[1]/tbody/tr[4]/td[3]\",\n",
        "    \"idr_gr\":   \"/html/body/div[1]/div[3]/div[1]/table[1]/tbody/tr[4]/td[4]\",\n",
        "}\n",
        "\n",
        "# Mulai scraping\n",
        "while start_date < end_date:\n",
        "    bulan = bulan_id[start_date.month]\n",
        "    url = f\"https://harga-emas.org/history-harga/{start_date.year}/{bulan}/{start_date.day}/\"\n",
        "    print(f\"🔗 {url}\")\n",
        "\n",
        "    try:\n",
        "        driver.get(url)\n",
        "\n",
        "        # Polling ringan (tanpa WebDriverWait)\n",
        "        success = False\n",
        "        for _ in range(5):\n",
        "            try:\n",
        "                if driver.find_elements(By.CLASS_NAME, \"in_table\"):\n",
        "                    success = True\n",
        "                    break\n",
        "            except Exception:\n",
        "                pass\n",
        "            time.sleep(1)\n",
        "\n",
        "        if not success:\n",
        "            raise Exception(\"⏱️ Timeout menunggu elemen .in_table\")\n",
        "\n",
        "        row = {\"date\": start_date.strftime(\"%Y-%m-%d\")}\n",
        "\n",
        "        for key, xpath in xpaths.items():\n",
        "            try:\n",
        "                el = driver.find_elements(By.XPATH, xpath)\n",
        "                row[key] = el[0].text.strip() if el else \"N/A\"\n",
        "            except NoSuchElementException:\n",
        "                row[key] = \"N/A\"\n",
        "\n",
        "        data.append(row)\n",
        "        df = pd.DataFrame(data)\n",
        "        df.to_csv(cache_path, index=False)  # Simpan cache progres\n",
        "        print(f\"✅ {start_date.strftime('%Y-%m-%d')} | Sukses\")\n",
        "\n",
        "    except Exception as e:\n",
        "        print(f\"❌ Gagal scrape {start_date.strftime('%Y-%m-%d')}: {e}\")\n",
        "\n",
        "    start_date += timedelta(days=1)\n",
        "\n",
        "driver.quit()\n",
        "\n",
        "# Simpan final\n",
        "df.to_csv(save_path, index=False)\n",
        "print(f\"\\n📁 Data akhir tersimpan: {save_path}\")\n",
        "print(f\"📊 Total baris data: {len(df)}\")\n"
      ]
    },
    {
      "cell_type": "code",
      "execution_count": null,
      "metadata": {
        "colab": {
          "base_uri": "https://localhost:8080/"
        },
        "id": "tbG586NZbwXb",
        "outputId": "20e82eb5-c534-4597-8ace-b8fd095a8ca1"
      },
      "outputs": [
        {
          "name": "stdout",
          "output_type": "stream",
          "text": [
            "🗑️ Cache berhasil dihapus.\n"
          ]
        }
      ],
      "source": [
        "#untuk hapus cache csv ( jika terjadi kegagalan )\n",
        "import os\n",
        "\n",
        "cache_path = \"/content/drive/MyDrive/2025_AI/scrape-gold/cache_harga_emas.csv\"\n",
        "\n",
        "if os.path.exists(cache_path):\n",
        "    os.remove(cache_path)\n",
        "    print(\"🗑️ Cache berhasil dihapus.\")\n",
        "else:\n",
        "    print(\"ℹ️ Tidak ada file cache untuk dihapus.\")\n"
      ]
    },
    {
      "cell_type": "markdown",
      "metadata": {
        "id": "G0o0I3GooLoR"
      },
      "source": [
        "VERSI PAKE BEAUTIFOUL SOUP SAMA REQUEST , TANPA SELENIUM :"
      ]
    },
    {
      "cell_type": "code",
      "execution_count": null,
      "metadata": {
        "colab": {
          "base_uri": "https://localhost:8080/"
        },
        "id": "A0V_hBeTnbUh",
        "outputId": "8c49edfd-abd7-40ea-ac64-94d3ee3ca36e"
      },
      "outputs": [
        {
          "name": "stdout",
          "output_type": "stream",
          "text": [
            "🆕 Cache tidak ditemukan, memulai scraping dari awal.\n",
            "🔗 Mengambil data dari: https://harga-emas.org/history-harga/2020/Januari/1/\n",
            "✅ 2020-01-01 | Data berhasil diambil dan cache diperbarui.\n",
            "🔗 Mengambil data dari: https://harga-emas.org/history-harga/2020/Januari/2/\n",
            "✅ 2020-01-02 | Data berhasil diambil dan cache diperbarui.\n",
            "🔗 Mengambil data dari: https://harga-emas.org/history-harga/2020/Januari/3/\n",
            "✅ 2020-01-03 | Data berhasil diambil dan cache diperbarui.\n",
            "\n",
            "📁 Data akhir tersimpan di: /content/drive/MyDrive/2025_AI/scrape-gold/harga_emas_requests.csv\n",
            "📊 Total baris data: 3\n"
          ]
        }
      ],
      "source": [
        "import requests\n",
        "from bs4 import BeautifulSoup\n",
        "from datetime import datetime, timedelta\n",
        "import csv\n",
        "\n",
        "# --- Konfigurasi bulan Indonesia ---\n",
        "bulan_id = {\n",
        "    1: \"Januari\", 2: \"Febuari\", 3: \"Maret\", 4: \"April\",\n",
        "    5: \"Mei\", 6: \"Juni\", 7: \"Juli\", 8: \"Agustus\",\n",
        "    9: \"September\", 10: \"Oktober\", 11: \"November\", 12: \"Desember\"\n",
        "}\n",
        "\n",
        "# Rentang waktu scraping\n",
        "start_date = datetime(2020, 1, 1)\n",
        "end_date = datetime(2025, 3, 13)\n",
        "\n",
        "headers = {\"User-Agent\": \"Mozilla/5.0\"}\n",
        "\n",
        "# --- Fungsi scraping per hari ---\n",
        "def scrape_per_hari(tahun, bulan, tanggal):\n",
        "    nama_bulan = bulan_id[bulan]\n",
        "    url = f\"https://harga-emas.org/history-harga/{tahun}/{nama_bulan}/{tanggal:02d}/\"\n",
        "    try:\n",
        "        r = requests.get(url, headers=headers, timeout=10)\n",
        "        soup = BeautifulSoup(r.content, \"html.parser\")\n",
        "        rows = soup.find_all(\"tr\")\n",
        "\n",
        "        if len(rows) < 12:\n",
        "            return None\n",
        "\n",
        "        # Ambil baris ounce dan gram berdasarkan asumsi posisi tetap\n",
        "        oz_cells = rows[10].find_all(\"td\")\n",
        "        gr_cells = rows[11].find_all(\"td\")\n",
        "\n",
        "        harga_oz = oz_cells[1].text.strip()\n",
        "        kurs_oz = oz_cells[2].text.strip()\n",
        "        idr_oz = oz_cells[3].text.strip()\n",
        "\n",
        "        harga_gr = gr_cells[1].text.strip()\n",
        "        kurs_gr = gr_cells[2].text.strip()\n",
        "        idr_gr = gr_cells[3].text.strip()\n",
        "\n",
        "        # Ambil tanggal update\n",
        "        update_raw = \"\"\n",
        "        for row in rows:\n",
        "            if \"Update harga emas\" in row.text:\n",
        "                update_raw = row.text.strip()\n",
        "                break\n",
        "\n",
        "        update_tanggal = update_raw.split(\"Update harga emas :\")[-1].split(\"Update kurs\")[0].strip()\n",
        "        tanggal_label = f\"{tanggal:02d} {nama_bulan} {tahun}\"\n",
        "\n",
        "        return {\n",
        "            \"tanggal\": tanggal_label,\n",
        "            \"harga_oz\": harga_oz,\n",
        "            \"kurs_oz\": kurs_oz,\n",
        "            \"idr_oz\": idr_oz,\n",
        "            \"harga_gr\": harga_gr,\n",
        "            \"kurs_gr\": kurs_gr,\n",
        "            \"idr_gr\": idr_gr,\n",
        "            \"update_asli\": update_tanggal\n",
        "        }\n",
        "    except Exception as e:\n",
        "        print(f\"Gagal scraping {tanggal:02d}-{nama_bulan}-{tahun}: {e}\")\n",
        "        return None\n",
        "\n",
        "# --- Loop utama ---\n",
        "results = []\n",
        "current = start_date\n",
        "while current <= end_date:\n",
        "    nama_bulan = bulan_id[current.month]\n",
        "    print(f\"Memproses {current.day:02d} {nama_bulan} {current.year}...\")\n",
        "    data = scrape_per_hari(current.year, current.month, current.day)\n",
        "    if data:\n",
        "        results.append(data)\n",
        "    current += timedelta(days=1)\n",
        "\n",
        "# --- Simpan hasil ke CSV ---\n",
        "with open(\"harga_emas_febuari_2020-2025.csv\", \"w\", newline=\"\", encoding=\"utf-8\") as file:\n",
        "    writer = csv.DictWriter(file, fieldnames=results[0].keys())\n",
        "    writer.writeheader()\n",
        "    writer.writerows(results)\n",
        "\n",
        "print(\"✅ Selesai menyimpan data ke harga_emas_febuari_2020-2025.csv\")\n"
      ]
    },
    {
      "cell_type": "code",
      "execution_count": null,
      "metadata": {
        "id": "_lG0mmn_pbrS"
      },
      "outputs": [],
      "source": [
        "rm /content/drive/MyDrive/2025_AI/scrape-gold/cache_harga_emas_requests.csv"
      ]
    }
  ],
  "metadata": {
    "colab": {
      "provenance": []
    },
    "kernelspec": {
      "display_name": "base",
      "language": "python",
      "name": "python3"
    },
    "language_info": {
      "name": "python",
      "version": "3.12.7"
    }
  },
  "nbformat": 4,
  "nbformat_minor": 0
}
